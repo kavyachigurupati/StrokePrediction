{
  "nbformat": 4,
  "nbformat_minor": 0,
  "metadata": {
    "colab": {
      "name": "Deliverable 3 : Modelling.ipynb",
      "provenance": [],
      "collapsed_sections": []
    },
    "kernelspec": {
      "name": "python3",
      "display_name": "Python 3"
    },
    "language_info": {
      "name": "python"
    }
  },
  "cells": [
    {
      "cell_type": "markdown",
      "metadata": {
        "id": "HuRKzcUE0OdL"
      },
      "source": [
        "# **Modelling**"
      ]
    },
    {
      "cell_type": "code",
      "metadata": {
        "id": "86rz1sdP0Ikl"
      },
      "source": [
        "import os\n",
        "import glob\n",
        "import pandas as pd\n",
        "import cv2\n",
        "import matplotlib.pyplot as plt\n",
        "from google.colab import drive\n",
        "import seaborn as sns\n",
        "from sklearn.model_selection import train_test_split\n",
        "from sklearn.linear_model import LogisticRegression\n",
        "from sklearn.metrics import recall_score,accuracy_score,f1_score,precision_score\n",
        "from sklearn.ensemble import RandomForestClassifier\n",
        "from sklearn.metrics import plot_confusion_matrix   \n",
        "from sklearn.preprocessing import MinMaxScaler                          \n",
        "import numpy as np\n",
        "from sklearn import metrics\n",
        "from sklearn import tree"
      ],
      "execution_count": null,
      "outputs": []
    },
    {
      "cell_type": "code",
      "metadata": {
        "colab": {
          "base_uri": "https://localhost:8080/"
        },
        "id": "Ah8WZWVIxg75",
        "outputId": "eacacca8-c088-46c1-bf7c-6ca5663875a1"
      },
      "source": [
        "drive.mount(\"/content/drive\")"
      ],
      "execution_count": null,
      "outputs": [
        {
          "output_type": "stream",
          "name": "stdout",
          "text": [
            "Drive already mounted at /content/drive; to attempt to forcibly remount, call drive.mount(\"/content/drive\", force_remount=True).\n"
          ]
        }
      ]
    },
    {
      "cell_type": "code",
      "metadata": {
        "id": "BRDbDd-Z0e3t"
      },
      "source": [
        "working_dir = \"/content/drive/MyDrive/KDD Project\""
      ],
      "execution_count": null,
      "outputs": []
    },
    {
      "cell_type": "code",
      "metadata": {
        "id": "oOSK-T010t_g"
      },
      "source": [
        "stroke_pf = pd.read_csv(working_dir + '/healthcare-dataset-stroke-data.csv')"
      ],
      "execution_count": null,
      "outputs": []
    },
    {
      "cell_type": "markdown",
      "metadata": {
        "id": "aEBbslGjZnVY"
      },
      "source": [
        "### **Data Preprocessing**\n",
        "\n",
        "**Handling Missing Values**"
      ]
    },
    {
      "cell_type": "code",
      "metadata": {
        "colab": {
          "base_uri": "https://localhost:8080/"
        },
        "id": "VNl-ZCyBGdqu",
        "outputId": "40a83889-88bb-40b1-c924-c248582a0014"
      },
      "source": [
        "#bmi feature has null values\n",
        "stroke_pf.isna().sum()"
      ],
      "execution_count": null,
      "outputs": [
        {
          "output_type": "execute_result",
          "data": {
            "text/plain": [
              "id                     0\n",
              "gender                 0\n",
              "age                    0\n",
              "hypertension           0\n",
              "heart_disease          0\n",
              "ever_married           0\n",
              "work_type              0\n",
              "Residence_type         0\n",
              "avg_glucose_level      0\n",
              "bmi                  201\n",
              "smoking_status         0\n",
              "stroke                 0\n",
              "dtype: int64"
            ]
          },
          "metadata": {},
          "execution_count": 5
        }
      ]
    },
    {
      "cell_type": "code",
      "metadata": {
        "id": "PZaqPUdCqzPO"
      },
      "source": [
        "#drop all the rows having unknown value in smoking status feature\n",
        "unknown_index = stroke_pf[stroke_pf['smoking_status'] =='Unknown'].index\n",
        "stroke_pf = stroke_pf.drop(unknown_index)"
      ],
      "execution_count": null,
      "outputs": []
    },
    {
      "cell_type": "code",
      "metadata": {
        "id": "nV_XTDBmotDX"
      },
      "source": [
        "#drop 'other' value in gender feature\n",
        "other_index = stroke_pf[stroke_pf['gender'] =='Other'].index\n",
        "stroke_pf = stroke_pf.drop(other_index)"
      ],
      "execution_count": null,
      "outputs": []
    },
    {
      "cell_type": "code",
      "metadata": {
        "colab": {
          "base_uri": "https://localhost:8080/",
          "height": 143
        },
        "id": "kI2IbNdoGm1l",
        "outputId": "5b2217c2-b39c-437d-cf25-6cdba0e11863"
      },
      "source": [
        "# calculating median for bmi values gender wise \n",
        "stroke_pf.groupby(['gender'])['bmi'].agg(['median'])"
      ],
      "execution_count": null,
      "outputs": [
        {
          "output_type": "execute_result",
          "data": {
            "text/html": [
              "<div>\n",
              "<style scoped>\n",
              "    .dataframe tbody tr th:only-of-type {\n",
              "        vertical-align: middle;\n",
              "    }\n",
              "\n",
              "    .dataframe tbody tr th {\n",
              "        vertical-align: top;\n",
              "    }\n",
              "\n",
              "    .dataframe thead th {\n",
              "        text-align: right;\n",
              "    }\n",
              "</style>\n",
              "<table border=\"1\" class=\"dataframe\">\n",
              "  <thead>\n",
              "    <tr style=\"text-align: right;\">\n",
              "      <th></th>\n",
              "      <th>median</th>\n",
              "    </tr>\n",
              "    <tr>\n",
              "      <th>gender</th>\n",
              "      <th></th>\n",
              "    </tr>\n",
              "  </thead>\n",
              "  <tbody>\n",
              "    <tr>\n",
              "      <th>Female</th>\n",
              "      <td>28.7</td>\n",
              "    </tr>\n",
              "    <tr>\n",
              "      <th>Male</th>\n",
              "      <td>29.5</td>\n",
              "    </tr>\n",
              "  </tbody>\n",
              "</table>\n",
              "</div>"
            ],
            "text/plain": [
              "        median\n",
              "gender        \n",
              "Female    28.7\n",
              "Male      29.5"
            ]
          },
          "metadata": {},
          "execution_count": 8
        }
      ]
    },
    {
      "cell_type": "code",
      "metadata": {
        "id": "s4OuTQqVfHMN"
      },
      "source": [
        "#update null bmi values with median values computed above\n",
        "F_missing_bmi_index = stroke_pf[(stroke_pf.gender == 'Female') & (stroke_pf.bmi.isna())].index\n",
        "stroke_pf.loc[F_missing_bmi_index, 'bmi'] = 28.7\n",
        "\n",
        "M_missing_bmi_index = stroke_pf[(stroke_pf.gender == 'Male') & (stroke_pf.bmi.isna())].index\n",
        "stroke_pf.loc[M_missing_bmi_index, 'bmi'] = 29.5\n"
      ],
      "execution_count": null,
      "outputs": []
    },
    {
      "cell_type": "markdown",
      "metadata": {
        "id": "t2Wa7are05gH"
      },
      "source": [
        "**Handling Outliers**"
      ]
    },
    {
      "cell_type": "code",
      "metadata": {
        "colab": {
          "base_uri": "https://localhost:8080/"
        },
        "id": "D2ksI-LpHMVo",
        "outputId": "a5710d64-6bc2-4ec2-bf72-216464b10beb"
      },
      "source": [
        "stroke_pf = stroke_pf.loc[~(stroke_pf.bmi>60)]\n",
        "stroke_pf.shape"
      ],
      "execution_count": null,
      "outputs": [
        {
          "output_type": "execute_result",
          "data": {
            "text/plain": [
              "(3556, 12)"
            ]
          },
          "metadata": {},
          "execution_count": 10
        }
      ]
    },
    {
      "cell_type": "markdown",
      "metadata": {
        "id": "6enfPkJv1H91"
      },
      "source": [
        "**Label Encoding**"
      ]
    },
    {
      "cell_type": "code",
      "metadata": {
        "colab": {
          "base_uri": "https://localhost:8080/",
          "height": 206
        },
        "id": "zQ3HeUAlvdpu",
        "outputId": "12276c67-5f7d-4839-ca46-3eade59ee788"
      },
      "source": [
        "from sklearn.preprocessing import LabelEncoder\n",
        "labelencoder = LabelEncoder()\n",
        "stroke_pf['smoking_status'] = labelencoder.fit_transform(stroke_pf['smoking_status'])\n",
        "stroke_pf['gender'] = labelencoder.fit_transform(stroke_pf['gender'])\n",
        "stroke_pf['ever_married'] = labelencoder.fit_transform(stroke_pf['ever_married'])\n",
        "stroke_pf['work_type'] = labelencoder.fit_transform(stroke_pf['work_type'])\n",
        "stroke_pf['Residence_type'] = labelencoder.fit_transform(stroke_pf['Residence_type'])\n",
        "stroke_pf['Residence_type'] = labelencoder.fit_transform(stroke_pf['Residence_type'])\n",
        "stroke_pf.head()"
      ],
      "execution_count": null,
      "outputs": [
        {
          "output_type": "execute_result",
          "data": {
            "text/html": [
              "<div>\n",
              "<style scoped>\n",
              "    .dataframe tbody tr th:only-of-type {\n",
              "        vertical-align: middle;\n",
              "    }\n",
              "\n",
              "    .dataframe tbody tr th {\n",
              "        vertical-align: top;\n",
              "    }\n",
              "\n",
              "    .dataframe thead th {\n",
              "        text-align: right;\n",
              "    }\n",
              "</style>\n",
              "<table border=\"1\" class=\"dataframe\">\n",
              "  <thead>\n",
              "    <tr style=\"text-align: right;\">\n",
              "      <th></th>\n",
              "      <th>id</th>\n",
              "      <th>gender</th>\n",
              "      <th>age</th>\n",
              "      <th>hypertension</th>\n",
              "      <th>heart_disease</th>\n",
              "      <th>ever_married</th>\n",
              "      <th>work_type</th>\n",
              "      <th>Residence_type</th>\n",
              "      <th>avg_glucose_level</th>\n",
              "      <th>bmi</th>\n",
              "      <th>smoking_status</th>\n",
              "      <th>stroke</th>\n",
              "    </tr>\n",
              "  </thead>\n",
              "  <tbody>\n",
              "    <tr>\n",
              "      <th>0</th>\n",
              "      <td>9046</td>\n",
              "      <td>1</td>\n",
              "      <td>67.0</td>\n",
              "      <td>0</td>\n",
              "      <td>1</td>\n",
              "      <td>1</td>\n",
              "      <td>2</td>\n",
              "      <td>1</td>\n",
              "      <td>228.69</td>\n",
              "      <td>36.6</td>\n",
              "      <td>0</td>\n",
              "      <td>1</td>\n",
              "    </tr>\n",
              "    <tr>\n",
              "      <th>1</th>\n",
              "      <td>51676</td>\n",
              "      <td>0</td>\n",
              "      <td>61.0</td>\n",
              "      <td>0</td>\n",
              "      <td>0</td>\n",
              "      <td>1</td>\n",
              "      <td>3</td>\n",
              "      <td>0</td>\n",
              "      <td>202.21</td>\n",
              "      <td>28.7</td>\n",
              "      <td>1</td>\n",
              "      <td>1</td>\n",
              "    </tr>\n",
              "    <tr>\n",
              "      <th>2</th>\n",
              "      <td>31112</td>\n",
              "      <td>1</td>\n",
              "      <td>80.0</td>\n",
              "      <td>0</td>\n",
              "      <td>1</td>\n",
              "      <td>1</td>\n",
              "      <td>2</td>\n",
              "      <td>0</td>\n",
              "      <td>105.92</td>\n",
              "      <td>32.5</td>\n",
              "      <td>1</td>\n",
              "      <td>1</td>\n",
              "    </tr>\n",
              "    <tr>\n",
              "      <th>3</th>\n",
              "      <td>60182</td>\n",
              "      <td>0</td>\n",
              "      <td>49.0</td>\n",
              "      <td>0</td>\n",
              "      <td>0</td>\n",
              "      <td>1</td>\n",
              "      <td>2</td>\n",
              "      <td>1</td>\n",
              "      <td>171.23</td>\n",
              "      <td>34.4</td>\n",
              "      <td>2</td>\n",
              "      <td>1</td>\n",
              "    </tr>\n",
              "    <tr>\n",
              "      <th>4</th>\n",
              "      <td>1665</td>\n",
              "      <td>0</td>\n",
              "      <td>79.0</td>\n",
              "      <td>1</td>\n",
              "      <td>0</td>\n",
              "      <td>1</td>\n",
              "      <td>3</td>\n",
              "      <td>0</td>\n",
              "      <td>174.12</td>\n",
              "      <td>24.0</td>\n",
              "      <td>1</td>\n",
              "      <td>1</td>\n",
              "    </tr>\n",
              "  </tbody>\n",
              "</table>\n",
              "</div>"
            ],
            "text/plain": [
              "      id  gender   age  ...   bmi  smoking_status  stroke\n",
              "0   9046       1  67.0  ...  36.6               0       1\n",
              "1  51676       0  61.0  ...  28.7               1       1\n",
              "2  31112       1  80.0  ...  32.5               1       1\n",
              "3  60182       0  49.0  ...  34.4               2       1\n",
              "4   1665       0  79.0  ...  24.0               1       1\n",
              "\n",
              "[5 rows x 12 columns]"
            ]
          },
          "metadata": {},
          "execution_count": 13
        }
      ]
    },
    {
      "cell_type": "markdown",
      "metadata": {
        "id": "4nCPqYOOZ0JE"
      },
      "source": [
        "**Original Data**\n",
        "\n",
        "\n",
        "\n",
        "*   We tried to apply logistic regression on the data before performing undersampling and oversampling and noticed that our model has poor performance.\n",
        "\n",
        "\n",
        "*   So, our next steps would be to perform undersampling and oversampling and check which methods best suite our dataset.\n",
        "\n",
        "\n",
        "\n"
      ]
    },
    {
      "cell_type": "code",
      "metadata": {
        "id": "z6laVn_c_LRB"
      },
      "source": [
        "def logisticReg(X_train, X_test, y_train, y_test):\n",
        "  lr = LogisticRegression(class_weight = 'balanced')\n",
        "  lr.fit(X_train,y_train)\n",
        "  y_pred = lr.predict(X_test)\n",
        "  \n",
        "  plot_confusion_matrix(lr, X_test,y_test) \n",
        "  y_pred = lr.predict(X_test)\n",
        "\n",
        "  print(f\"Training Accuracy.: {lr.score(X_train, y_train)*100:.2f}%\")\n",
        "  print(f\"Test Accuracy.: {lr.score(X_test, y_test)*100:.2f}%\")\n",
        "  print(f\"Recall score.: {recall_score(y_test,y_pred)*100:.2f}%\")\n",
        "  print(f\"Precision score.: {precision_score(y_test,y_pred) *100:.2f}%\")\n",
        "  print(f\"F1 score .: {f1_score(y_test,y_pred)*100:.2f}%\")\n",
        "  \n",
        "  "
      ],
      "execution_count": null,
      "outputs": []
    },
    {
      "cell_type": "code",
      "metadata": {
        "colab": {
          "base_uri": "https://localhost:8080/",
          "height": 594
        },
        "id": "oOOyNbsxsnaZ",
        "outputId": "60c7282d-a0ac-4322-fedc-fce2dd42e86f"
      },
      "source": [
        "X = stroke_pf.loc[:,~stroke_pf.columns.isin(['stroke','id'])]\n",
        "y = stroke_pf.loc[:,stroke_pf.columns == 'stroke']\n",
        "X_train_orignal, X_test_original, y_train_original, y_test_original = train_test_split(X,y,test_size = 0.1, random_state = 0)\n",
        "logisticReg(X_train_orignal, X_test_original, y_train_original, y_test_original)"
      ],
      "execution_count": null,
      "outputs": [
        {
          "output_type": "stream",
          "name": "stderr",
          "text": [
            "/usr/local/lib/python3.7/dist-packages/sklearn/utils/validation.py:985: DataConversionWarning: A column-vector y was passed when a 1d array was expected. Please change the shape of y to (n_samples, ), for example using ravel().\n",
            "  y = column_or_1d(y, warn=True)\n",
            "/usr/local/lib/python3.7/dist-packages/sklearn/linear_model/_logistic.py:818: ConvergenceWarning: lbfgs failed to converge (status=1):\n",
            "STOP: TOTAL NO. of ITERATIONS REACHED LIMIT.\n",
            "\n",
            "Increase the number of iterations (max_iter) or scale the data as shown in:\n",
            "    https://scikit-learn.org/stable/modules/preprocessing.html\n",
            "Please also refer to the documentation for alternative solver options:\n",
            "    https://scikit-learn.org/stable/modules/linear_model.html#logistic-regression\n",
            "  extra_warning_msg=_LOGISTIC_SOLVER_CONVERGENCE_MSG,\n",
            "/usr/local/lib/python3.7/dist-packages/sklearn/utils/deprecation.py:87: FutureWarning: Function plot_confusion_matrix is deprecated; Function `plot_confusion_matrix` is deprecated in 1.0 and will be removed in 1.2. Use one of the class methods: ConfusionMatrixDisplay.from_predictions or ConfusionMatrixDisplay.from_estimator.\n",
            "  warnings.warn(msg, category=FutureWarning)\n"
          ]
        },
        {
          "output_type": "stream",
          "name": "stdout",
          "text": [
            "Training Accuracy.: 71.94%\n",
            "Test Accuracy.: 68.54%\n",
            "Recall score.: 83.33%\n",
            "Precision score.: 12.10%\n",
            "F1 score .: 21.13%\n"
          ]
        },
        {
          "output_type": "display_data",
          "data": {
            "image/png": "[encoded data removed]",
            "text/plain": [
              "<Figure size 432x288 with 2 Axes>"
            ]
          },
          "metadata": {
            "needs_background": "light"
          }
        }
      ]
    },
    {
      "cell_type": "markdown",
      "metadata": {
        "id": "xu0f9P1Ihb9K"
      },
      "source": [
        "### **Data Preparation for Modeling**"
      ]
    },
    {
      "cell_type": "code",
      "metadata": {
        "colab": {
          "base_uri": "https://localhost:8080/"
        },
        "id": "moZ24skEn1Ng",
        "outputId": "b79bc36c-5856-4d4f-9955-828b58fc3226"
      },
      "source": [
        "\n",
        "print(stroke_pf[\"stroke\"].value_counts())"
      ],
      "execution_count": null,
      "outputs": [
        {
          "output_type": "stream",
          "name": "stdout",
          "text": [
            "0    3354\n",
            "1     202\n",
            "Name: stroke, dtype: int64\n"
          ]
        }
      ]
    },
    {
      "cell_type": "markdown",
      "metadata": {
        "id": "viORMZDAhiaH"
      },
      "source": [
        "**1. Handling Imbalanced Data**\n",
        "\n",
        "From the graph below, we can find that the stroke prediction is highly imbalanced towards predicting the preson has low chnace of getting stroke.As a result, in order to get an efficient model, this unbalanced data must be dealt with first. The method of under-sampling is employed for this purpose."
      ]
    },
    {
      "cell_type": "code",
      "metadata": {
        "colab": {
          "base_uri": "https://localhost:8080/",
          "height": 299
        },
        "id": "QKMoOEofxPxs",
        "outputId": "ce4c2f0c-d964-44e3-faa3-f039c2e2f3ba"
      },
      "source": [
        "sns.countplot(x=stroke_pf.stroke, data=stroke_pf)"
      ],
      "execution_count": null,
      "outputs": [
        {
          "output_type": "execute_result",
          "data": {
            "text/plain": [
              "<matplotlib.axes._subplots.AxesSubplot at 0x7f236821e550>"
            ]
          },
          "metadata": {},
          "execution_count": 23
        },
        {
          "output_type": "display_data",
          "data": {
            "image/png": "[encoded data removed]",
            "text/plain": [
              "<Figure size 432x288 with 1 Axes>"
            ]
          },
          "metadata": {
            "needs_background": "light"
          }
        }
      ]
    },
    {
      "cell_type": "markdown",
      "metadata": {
        "id": "zxSHluo1qmy0"
      },
      "source": [
        "**UnderSampling**\n",
        "\n",
        "Undersampling equalizes the data by undersampling the majority class to match the minority class. In this scenario, the class with the value \"0\" is undersampled in comparison to the class with the value \"1.\" The final dataset will include 249 rows with value '0' and 249 rows with value '1' after undersampling."
      ]
    },
    {
      "cell_type": "code",
      "metadata": {
        "colab": {
          "base_uri": "https://localhost:8080/"
        },
        "id": "ovhszgdv56YS",
        "outputId": "77c04e16-63e9-47cd-b30e-57ec8821b5f7"
      },
      "source": [
        "# displays count of stroke \n",
        "# stroke = 0 -> person doesnot get stroke\n",
        "# stroke = 1 -> indicates person getting stroke\n",
        "stroke = len(stroke_pf[stroke_pf['stroke'] == 1])\n",
        "print(\"stroke \",stroke)\n",
        "no_stroke = len(stroke_pf[stroke_pf['stroke'] == 0])\n",
        "print(\"no stroke \",no_stroke)"
      ],
      "execution_count": null,
      "outputs": [
        {
          "output_type": "stream",
          "name": "stdout",
          "text": [
            "stroke  202\n",
            "no stroke  3354\n"
          ]
        }
      ]
    },
    {
      "cell_type": "code",
      "metadata": {
        "colab": {
          "base_uri": "https://localhost:8080/"
        },
        "id": "baGumWyz8DtJ",
        "outputId": "e5108d37-5b75-48ec-cef5-1c83cae606ea"
      },
      "source": [
        "# performing undersampling on data\n",
        "no_stroke_indices = stroke_pf[stroke_pf['stroke'] == 0].index\n",
        "random_indices = np.random.choice(no_stroke_indices,stroke, replace=False)\n",
        "print(\"no stroke \",len(random_indices))\n",
        "stroke_indices = stroke_pf[stroke_pf['stroke'] == 1].index\n",
        "print(\"stroke \",len(stroke_indices))\n",
        "\n",
        "under_sample_indices = np.concatenate([stroke_indices,random_indices])\n",
        "print(\"After undersample, Total size of dataset =\",len(under_sample_indices))\n",
        "under_sample = stroke_pf.loc[under_sample_indices]"
      ],
      "execution_count": null,
      "outputs": [
        {
          "output_type": "stream",
          "name": "stdout",
          "text": [
            "no stroke  202\n",
            "stroke  202\n",
            "After undersample, Total size of dataset = 404\n"
          ]
        }
      ]
    },
    {
      "cell_type": "code",
      "metadata": {
        "colab": {
          "base_uri": "https://localhost:8080/",
          "height": 424
        },
        "id": "LCG2d1_OcIxf",
        "outputId": "e31e1fc7-9ed7-4c65-e804-1fbbd73883f7"
      },
      "source": [
        "under_sample.drop(columns=['id'])"
      ],
      "execution_count": null,
      "outputs": [
        {
          "output_type": "execute_result",
          "data": {
            "text/html": [
              "<div>\n",
              "<style scoped>\n",
              "    .dataframe tbody tr th:only-of-type {\n",
              "        vertical-align: middle;\n",
              "    }\n",
              "\n",
              "    .dataframe tbody tr th {\n",
              "        vertical-align: top;\n",
              "    }\n",
              "\n",
              "    .dataframe thead th {\n",
              "        text-align: right;\n",
              "    }\n",
              "</style>\n",
              "<table border=\"1\" class=\"dataframe\">\n",
              "  <thead>\n",
              "    <tr style=\"text-align: right;\">\n",
              "      <th></th>\n",
              "      <th>gender</th>\n",
              "      <th>age</th>\n",
              "      <th>hypertension</th>\n",
              "      <th>heart_disease</th>\n",
              "      <th>ever_married</th>\n",
              "      <th>work_type</th>\n",
              "      <th>Residence_type</th>\n",
              "      <th>avg_glucose_level</th>\n",
              "      <th>bmi</th>\n",
              "      <th>smoking_status</th>\n",
              "      <th>stroke</th>\n",
              "    </tr>\n",
              "  </thead>\n",
              "  <tbody>\n",
              "    <tr>\n",
              "      <th>0</th>\n",
              "      <td>1</td>\n",
              "      <td>67.0</td>\n",
              "      <td>0</td>\n",
              "      <td>1</td>\n",
              "      <td>1</td>\n",
              "      <td>2</td>\n",
              "      <td>1</td>\n",
              "      <td>228.69</td>\n",
              "      <td>36.6</td>\n",
              "      <td>0</td>\n",
              "      <td>1</td>\n",
              "    </tr>\n",
              "    <tr>\n",
              "      <th>1</th>\n",
              "      <td>0</td>\n",
              "      <td>61.0</td>\n",
              "      <td>0</td>\n",
              "      <td>0</td>\n",
              "      <td>1</td>\n",
              "      <td>3</td>\n",
              "      <td>0</td>\n",
              "      <td>202.21</td>\n",
              "      <td>28.7</td>\n",
              "      <td>1</td>\n",
              "      <td>1</td>\n",
              "    </tr>\n",
              "    <tr>\n",
              "      <th>2</th>\n",
              "      <td>1</td>\n",
              "      <td>80.0</td>\n",
              "      <td>0</td>\n",
              "      <td>1</td>\n",
              "      <td>1</td>\n",
              "      <td>2</td>\n",
              "      <td>0</td>\n",
              "      <td>105.92</td>\n",
              "      <td>32.5</td>\n",
              "      <td>1</td>\n",
              "      <td>1</td>\n",
              "    </tr>\n",
              "    <tr>\n",
              "      <th>3</th>\n",
              "      <td>0</td>\n",
              "      <td>49.0</td>\n",
              "      <td>0</td>\n",
              "      <td>0</td>\n",
              "      <td>1</td>\n",
              "      <td>2</td>\n",
              "      <td>1</td>\n",
              "      <td>171.23</td>\n",
              "      <td>34.4</td>\n",
              "      <td>2</td>\n",
              "      <td>1</td>\n",
              "    </tr>\n",
              "    <tr>\n",
              "      <th>4</th>\n",
              "      <td>0</td>\n",
              "      <td>79.0</td>\n",
              "      <td>1</td>\n",
              "      <td>0</td>\n",
              "      <td>1</td>\n",
              "      <td>3</td>\n",
              "      <td>0</td>\n",
              "      <td>174.12</td>\n",
              "      <td>24.0</td>\n",
              "      <td>1</td>\n",
              "      <td>1</td>\n",
              "    </tr>\n",
              "    <tr>\n",
              "      <th>...</th>\n",
              "      <td>...</td>\n",
              "      <td>...</td>\n",
              "      <td>...</td>\n",
              "      <td>...</td>\n",
              "      <td>...</td>\n",
              "      <td>...</td>\n",
              "      <td>...</td>\n",
              "      <td>...</td>\n",
              "      <td>...</td>\n",
              "      <td>...</td>\n",
              "      <td>...</td>\n",
              "    </tr>\n",
              "    <tr>\n",
              "      <th>4816</th>\n",
              "      <td>0</td>\n",
              "      <td>54.0</td>\n",
              "      <td>1</td>\n",
              "      <td>0</td>\n",
              "      <td>0</td>\n",
              "      <td>0</td>\n",
              "      <td>1</td>\n",
              "      <td>182.22</td>\n",
              "      <td>32.6</td>\n",
              "      <td>0</td>\n",
              "      <td>0</td>\n",
              "    </tr>\n",
              "    <tr>\n",
              "      <th>2334</th>\n",
              "      <td>1</td>\n",
              "      <td>73.0</td>\n",
              "      <td>0</td>\n",
              "      <td>0</td>\n",
              "      <td>0</td>\n",
              "      <td>0</td>\n",
              "      <td>0</td>\n",
              "      <td>79.59</td>\n",
              "      <td>31.4</td>\n",
              "      <td>2</td>\n",
              "      <td>0</td>\n",
              "    </tr>\n",
              "    <tr>\n",
              "      <th>836</th>\n",
              "      <td>0</td>\n",
              "      <td>51.0</td>\n",
              "      <td>0</td>\n",
              "      <td>0</td>\n",
              "      <td>0</td>\n",
              "      <td>2</td>\n",
              "      <td>1</td>\n",
              "      <td>110.76</td>\n",
              "      <td>24.7</td>\n",
              "      <td>0</td>\n",
              "      <td>0</td>\n",
              "    </tr>\n",
              "    <tr>\n",
              "      <th>1410</th>\n",
              "      <td>0</td>\n",
              "      <td>52.0</td>\n",
              "      <td>0</td>\n",
              "      <td>0</td>\n",
              "      <td>1</td>\n",
              "      <td>2</td>\n",
              "      <td>1</td>\n",
              "      <td>107.29</td>\n",
              "      <td>28.1</td>\n",
              "      <td>1</td>\n",
              "      <td>0</td>\n",
              "    </tr>\n",
              "    <tr>\n",
              "      <th>2541</th>\n",
              "      <td>1</td>\n",
              "      <td>79.0</td>\n",
              "      <td>0</td>\n",
              "      <td>1</td>\n",
              "      <td>1</td>\n",
              "      <td>2</td>\n",
              "      <td>0</td>\n",
              "      <td>82.27</td>\n",
              "      <td>29.5</td>\n",
              "      <td>1</td>\n",
              "      <td>0</td>\n",
              "    </tr>\n",
              "  </tbody>\n",
              "</table>\n",
              "<p>404 rows × 11 columns</p>\n",
              "</div>"
            ],
            "text/plain": [
              "      gender   age  hypertension  ...   bmi  smoking_status  stroke\n",
              "0          1  67.0             0  ...  36.6               0       1\n",
              "1          0  61.0             0  ...  28.7               1       1\n",
              "2          1  80.0             0  ...  32.5               1       1\n",
              "3          0  49.0             0  ...  34.4               2       1\n",
              "4          0  79.0             1  ...  24.0               1       1\n",
              "...      ...   ...           ...  ...   ...             ...     ...\n",
              "4816       0  54.0             1  ...  32.6               0       0\n",
              "2334       1  73.0             0  ...  31.4               2       0\n",
              "836        0  51.0             0  ...  24.7               0       0\n",
              "1410       0  52.0             0  ...  28.1               1       0\n",
              "2541       1  79.0             0  ...  29.5               1       0\n",
              "\n",
              "[404 rows x 11 columns]"
            ]
          },
          "metadata": {},
          "execution_count": 26
        }
      ]
    },
    {
      "cell_type": "code",
      "metadata": {
        "colab": {
          "base_uri": "https://localhost:8080/",
          "height": 296
        },
        "id": "-yoT132S9V_D",
        "outputId": "0517d5ee-c45b-4ee1-a72e-5cbfd081b72a"
      },
      "source": [
        "#plot dataset after undersampling\n",
        "sns.countplot(x=under_sample.stroke, data=under_sample)"
      ],
      "execution_count": null,
      "outputs": [
        {
          "output_type": "execute_result",
          "data": {
            "text/plain": [
              "<matplotlib.axes._subplots.AxesSubplot at 0x7f236817d990>"
            ]
          },
          "metadata": {},
          "execution_count": 27
        },
        {
          "output_type": "display_data",
          "data": {
            "image/png": "[encoded data removed]",
            "text/plain": [
              "<Figure size 432x288 with 1 Axes>"
            ]
          },
          "metadata": {
            "needs_background": "light"
          }
        }
      ]
    },
    {
      "cell_type": "code",
      "metadata": {
        "id": "NtZKrgLa9t6-"
      },
      "source": [
        "#splitting the data into input and output columns\n",
        "X_under = under_sample.loc[:,~under_sample.columns.isin(['stroke','id'])]\n",
        "y_under = under_sample.loc[:,under_sample.columns == 'stroke']\n"
      ],
      "execution_count": null,
      "outputs": []
    },
    {
      "cell_type": "markdown",
      "metadata": {
        "id": "jaf-IqXx-UOe"
      },
      "source": [
        "**Scaling the data**"
      ]
    },
    {
      "cell_type": "code",
      "metadata": {
        "colab": {
          "base_uri": "https://localhost:8080/"
        },
        "id": "Qgz2Tw3A-Toj",
        "outputId": "c6b38fb4-16f7-469c-ed39-9b9ab3fcb5b5"
      },
      "source": [
        "scaler = MinMaxScaler()\n",
        "X_under[['avg_glucose_level','bmi']] = scaler.fit_transform(X_under[['avg_glucose_level','bmi']])\n",
        "X_under = pd.get_dummies(X_under, drop_first=True)"
      ],
      "execution_count": null,
      "outputs": [
        {
          "output_type": "stream",
          "name": "stderr",
          "text": [
            "/usr/local/lib/python3.7/dist-packages/ipykernel_launcher.py:2: SettingWithCopyWarning: \n",
            "A value is trying to be set on a copy of a slice from a DataFrame.\n",
            "Try using .loc[row_indexer,col_indexer] = value instead\n",
            "\n",
            "See the caveats in the documentation: https://pandas.pydata.org/pandas-docs/stable/user_guide/indexing.html#returning-a-view-versus-a-copy\n",
            "  \n",
            "/usr/local/lib/python3.7/dist-packages/pandas/core/indexing.py:1734: SettingWithCopyWarning: \n",
            "A value is trying to be set on a copy of a slice from a DataFrame.\n",
            "Try using .loc[row_indexer,col_indexer] = value instead\n",
            "\n",
            "See the caveats in the documentation: https://pandas.pydata.org/pandas-docs/stable/user_guide/indexing.html#returning-a-view-versus-a-copy\n",
            "  isetter(loc, value[:, i].tolist())\n"
          ]
        }
      ]
    },
    {
      "cell_type": "code",
      "metadata": {
        "id": "9Z3gv3Rz_ERN"
      },
      "source": [
        "#split the data into train and test set\n",
        "X_train_under, X_test_under, y_train_under, y_test_under = train_test_split(X_under,y_under,test_size = 0.1, random_state = 0)"
      ],
      "execution_count": null,
      "outputs": []
    },
    {
      "cell_type": "markdown",
      "metadata": {
        "id": "mMSiplETFBsR"
      },
      "source": [
        "## **Modeling**\n",
        "We comparing the results of three different models on our dataset.\n",
        "\n",
        "1.   Logistic Regression\n",
        "2.   Decision Trees\n",
        "3.   Random Forest\n"
      ]
    },
    {
      "cell_type": "markdown",
      "metadata": {
        "id": "HKARjP89giYK"
      },
      "source": [
        "**Logistic Regression**"
      ]
    },
    {
      "cell_type": "code",
      "metadata": {
        "colab": {
          "base_uri": "https://localhost:8080/",
          "height": 598
        },
        "id": "dfvCZbs63fpg",
        "outputId": "53fbf89f-4b0c-4f3c-c141-a14c2bde8d37"
      },
      "source": [
        "logisticReg(X_train_under, X_test_under, y_train_under, y_test_under)"
      ],
      "execution_count": null,
      "outputs": [
        {
          "output_type": "stream",
          "name": "stderr",
          "text": [
            "/usr/local/lib/python3.7/dist-packages/sklearn/utils/validation.py:985: DataConversionWarning: A column-vector y was passed when a 1d array was expected. Please change the shape of y to (n_samples, ), for example using ravel().\n",
            "  y = column_or_1d(y, warn=True)\n",
            "/usr/local/lib/python3.7/dist-packages/sklearn/linear_model/_logistic.py:818: ConvergenceWarning: lbfgs failed to converge (status=1):\n",
            "STOP: TOTAL NO. of ITERATIONS REACHED LIMIT.\n",
            "\n",
            "Increase the number of iterations (max_iter) or scale the data as shown in:\n",
            "    https://scikit-learn.org/stable/modules/preprocessing.html\n",
            "Please also refer to the documentation for alternative solver options:\n",
            "    https://scikit-learn.org/stable/modules/linear_model.html#logistic-regression\n",
            "  extra_warning_msg=_LOGISTIC_SOLVER_CONVERGENCE_MSG,\n",
            "/usr/local/lib/python3.7/dist-packages/sklearn/utils/deprecation.py:87: FutureWarning: Function plot_confusion_matrix is deprecated; Function `plot_confusion_matrix` is deprecated in 1.0 and will be removed in 1.2. Use one of the class methods: ConfusionMatrixDisplay.from_predictions or ConfusionMatrixDisplay.from_estimator.\n",
            "  warnings.warn(msg, category=FutureWarning)\n"
          ]
        },
        {
          "output_type": "stream",
          "name": "stdout",
          "text": [
            "Training Accuracy.: 72.45%\n",
            "Test Accuracy.: 85.37%\n",
            "Recall score.: 90.00%\n",
            "Precision score.: 81.82%\n",
            "F1 score .: 85.71%\n"
          ]
        },
        {
          "output_type": "display_data",
          "data": {
            "image/png": "[encoded data removed]",
            "text/plain": [
              "<Figure size 432x288 with 2 Axes>"
            ]
          },
          "metadata": {
            "needs_background": "light"
          }
        }
      ]
    },
    {
      "cell_type": "markdown",
      "metadata": {
        "id": "HYiNCE-Q9EI_"
      },
      "source": [
        "**Decision Tree**"
      ]
    },
    {
      "cell_type": "code",
      "metadata": {
        "id": "oiqtYcPR6uHN"
      },
      "source": [
        "def decisionTree(X_train, X_test, y_train, y_test):\n",
        "  X_train, X_test, y_train, y_test = train_test_split(X_train,y_train,test_size = 0.3, random_state = 0)\n",
        "  clf = tree.DecisionTreeClassifier()\n",
        "  clf = clf.fit(X_train, y_train)\n",
        "\n",
        "  print(f\"Train Acc.: {clf.score(X_train, y_train)*100:.2f}%\")\n",
        "  print(f\"Test Acc.: {clf.score(X_test, y_test)*100:.2f}%\")\n",
        "\n",
        "  y_pred = clf.predict(X_test)\n",
        "  print(f\"Recall .: {recall_score(y_test,y_pred)*100:.2f}%\")\n",
        "  print(f\"Precision.: {precision_score(y_test,y_pred)*100:.2f}%\")\n",
        "  print(f\"F1 score.: {f1_score(y_test,y_pred)*100:.2f}%\")\n",
        "  plot_confusion_matrix(clf, X_test,y_test)"
      ],
      "execution_count": null,
      "outputs": []
    },
    {
      "cell_type": "code",
      "metadata": {
        "colab": {
          "base_uri": "https://localhost:8080/",
          "height": 421
        },
        "id": "U9mq6ArF82UT",
        "outputId": "b0378151-91ac-41cc-9a71-cde18a63beaf"
      },
      "source": [
        "decisionTree(X_train_under, X_test_under, y_train_under, y_test_under)"
      ],
      "execution_count": null,
      "outputs": [
        {
          "output_type": "stream",
          "name": "stdout",
          "text": [
            "Train Acc.: 100.00%\n",
            "Test Acc.: 63.30%\n",
            "Recall .: 66.04%\n",
            "Precision.: 61.40%\n",
            "F1 score.: 63.64%\n"
          ]
        },
        {
          "output_type": "stream",
          "name": "stderr",
          "text": [
            "/usr/local/lib/python3.7/dist-packages/sklearn/utils/deprecation.py:87: FutureWarning: Function plot_confusion_matrix is deprecated; Function `plot_confusion_matrix` is deprecated in 1.0 and will be removed in 1.2. Use one of the class methods: ConfusionMatrixDisplay.from_predictions or ConfusionMatrixDisplay.from_estimator.\n",
            "  warnings.warn(msg, category=FutureWarning)\n"
          ]
        },
        {
          "output_type": "display_data",
          "data": {
            "image/png": "[encoded data removed]",
            "text/plain": [
              "<Figure size 432x288 with 2 Axes>"
            ]
          },
          "metadata": {
            "needs_background": "light"
          }
        }
      ]
    },
    {
      "cell_type": "markdown",
      "metadata": {
        "id": "IsN-s84x9Cvs"
      },
      "source": [
        "**Random Forest**"
      ]
    },
    {
      "cell_type": "code",
      "metadata": {
        "id": "5fJAtkfh8-uZ"
      },
      "source": [
        "def random_forest(X_train, X_test, y_train, y_test):\n",
        "    \n",
        "    random_forest = RandomForestClassifier(max_depth=11, min_samples_split=4, random_state=10)\n",
        "    random_forest.fit(X_train, y_train)\n",
        "    print(f\"Train Acc.: {random_forest.score(X_train, y_train)*100:.2f}%\")\n",
        "    print(f\"Test Acc.: {random_forest.score(X_test, y_test)*100:.2f}%\")\n",
        "    y_pred = random_forest.predict(X_test)\n",
        "    \n",
        "    print(f\"Recall .: {recall_score(y_test,y_pred)*100:.2f}%\")\n",
        "    print(f\"Precision.: {precision_score(y_test,y_pred)*100:.2f}%\")\n",
        "    print(f\"F1 score.: {f1_score(y_test,y_pred)*100:.2f}%\")\n",
        "    plot_confusion_matrix(random_forest, X_test,y_test)\n",
        "    "
      ],
      "execution_count": null,
      "outputs": []
    },
    {
      "cell_type": "code",
      "metadata": {
        "colab": {
          "base_uri": "https://localhost:8080/",
          "height": 455
        },
        "id": "_GmGmFIP9rBw",
        "outputId": "03d48243-8f87-401f-a2f8-0f357801c34c"
      },
      "source": [
        "random_forest(X_train_under, X_test_under, y_train_under, y_test_under)"
      ],
      "execution_count": null,
      "outputs": [
        {
          "output_type": "stream",
          "name": "stderr",
          "text": [
            "/usr/local/lib/python3.7/dist-packages/ipykernel_launcher.py:4: DataConversionWarning: A column-vector y was passed when a 1d array was expected. Please change the shape of y to (n_samples,), for example using ravel().\n",
            "  after removing the cwd from sys.path.\n"
          ]
        },
        {
          "output_type": "stream",
          "name": "stdout",
          "text": [
            "Train Acc.: 98.07%\n",
            "Test Acc.: 73.17%\n",
            "Recall .: 75.00%\n",
            "Precision.: 71.43%\n",
            "F1 score.: 73.17%\n"
          ]
        },
        {
          "output_type": "stream",
          "name": "stderr",
          "text": [
            "/usr/local/lib/python3.7/dist-packages/sklearn/utils/deprecation.py:87: FutureWarning: Function plot_confusion_matrix is deprecated; Function `plot_confusion_matrix` is deprecated in 1.0 and will be removed in 1.2. Use one of the class methods: ConfusionMatrixDisplay.from_predictions or ConfusionMatrixDisplay.from_estimator.\n",
            "  warnings.warn(msg, category=FutureWarning)\n"
          ]
        },
        {
          "output_type": "display_data",
          "data": {
            "image/png": "[encoded data removed]",
            "text/plain": [
              "<Figure size 432x288 with 2 Axes>"
            ]
          },
          "metadata": {
            "needs_background": "light"
          }
        }
      ]
    },
    {
      "cell_type": "markdown",
      "metadata": {
        "id": "G7bH6nlsEvoi"
      },
      "source": [
        "While using undersampling, our model suffers with overfitting in all the three cases. So, we tried to solve it using oversampling."
      ]
    },
    {
      "cell_type": "markdown",
      "metadata": {
        "id": "OznJfvoFZ3Xq"
      },
      "source": [
        "**over sample**"
      ]
    },
    {
      "cell_type": "code",
      "metadata": {
        "id": "JmXPPl-SVRFr"
      },
      "source": [
        "from imblearn.over_sampling import RandomOverSampler\n",
        "from imblearn.over_sampling import SMOTE"
      ],
      "execution_count": null,
      "outputs": []
    },
    {
      "cell_type": "code",
      "metadata": {
        "id": "Iq_6XTbX_4Yn"
      },
      "source": [
        "X = pd.get_dummies(X, drop_first=True)\n",
        "sm_scaled = SMOTE(sampling_strategy='minority')\n",
        "X_sm1, y_sm1 = sm_scaled.fit_resample(X, y)\n",
        "\n",
        "X_train_over, X_test_over, y_train_over, y_test_over = train_test_split(X_sm1, y_sm1, test_size=0.2, stratify = y_sm1, random_state = 10)\n",
        "\n",
        "X_train_over = scaler.fit_transform(X_train_over)\n",
        "X_test_over = scaler.fit_transform(X_test_over)\n"
      ],
      "execution_count": null,
      "outputs": []
    },
    {
      "cell_type": "markdown",
      "metadata": {
        "id": "0mksZxVRCvGs"
      },
      "source": [
        "**Logistic Regression**"
      ]
    },
    {
      "cell_type": "code",
      "metadata": {
        "colab": {
          "base_uri": "https://localhost:8080/",
          "height": 455
        },
        "id": "kR7go2Al93gj",
        "outputId": "ebb13a64-f292-4ba3-b925-2c6654815bc0"
      },
      "source": [
        "logisticReg(X_train_over, X_test_over, y_train_over, y_test_over)"
      ],
      "execution_count": null,
      "outputs": [
        {
          "output_type": "stream",
          "name": "stderr",
          "text": [
            "/usr/local/lib/python3.7/dist-packages/sklearn/utils/validation.py:985: DataConversionWarning: A column-vector y was passed when a 1d array was expected. Please change the shape of y to (n_samples, ), for example using ravel().\n",
            "  y = column_or_1d(y, warn=True)\n",
            "/usr/local/lib/python3.7/dist-packages/sklearn/utils/deprecation.py:87: FutureWarning: Function plot_confusion_matrix is deprecated; Function `plot_confusion_matrix` is deprecated in 1.0 and will be removed in 1.2. Use one of the class methods: ConfusionMatrixDisplay.from_predictions or ConfusionMatrixDisplay.from_estimator.\n",
            "  warnings.warn(msg, category=FutureWarning)\n"
          ]
        },
        {
          "output_type": "stream",
          "name": "stdout",
          "text": [
            "Training Accuracy.: 78.64%\n",
            "Test Accuracy.: 79.36%\n",
            "Recall score.: 81.67%\n",
            "Precision score.: 78.06%\n",
            "F1 score .: 79.83%\n"
          ]
        },
        {
          "output_type": "display_data",
          "data": {
            "image/png": "[encoded data removed]",
            "text/plain": [
              "<Figure size 432x288 with 2 Axes>"
            ]
          },
          "metadata": {
            "needs_background": "light"
          }
        }
      ]
    },
    {
      "cell_type": "markdown",
      "metadata": {
        "id": "1Vew0nfQC12-"
      },
      "source": [
        "**Random Forest**"
      ]
    },
    {
      "cell_type": "code",
      "metadata": {
        "id": "mHRHPiZOVJ6u"
      },
      "source": [
        "X_train4, X_test4, y_train4, y_test4 = train_test_split(X_sm1, y_sm1, test_size=0.3, stratify = y_sm1, random_state = 10)"
      ],
      "execution_count": null,
      "outputs": []
    },
    {
      "cell_type": "code",
      "metadata": {
        "colab": {
          "base_uri": "https://localhost:8080/",
          "height": 455
        },
        "id": "Qw1-cF40BT3o",
        "outputId": "d56fca27-f844-4e7c-ed8f-f94981a24f8a"
      },
      "source": [
        "random_forest(X_train4, X_test4, y_train4, y_test4)"
      ],
      "execution_count": null,
      "outputs": [
        {
          "output_type": "stream",
          "name": "stderr",
          "text": [
            "/usr/local/lib/python3.7/dist-packages/ipykernel_launcher.py:4: DataConversionWarning: A column-vector y was passed when a 1d array was expected. Please change the shape of y to (n_samples,), for example using ravel().\n",
            "  after removing the cwd from sys.path.\n"
          ]
        },
        {
          "output_type": "stream",
          "name": "stdout",
          "text": [
            "Train Acc.: 95.57%\n",
            "Test Acc.: 91.21%\n",
            "Recall .: 93.15%\n",
            "Precision.: 89.67%\n",
            "F1 score.: 91.38%\n"
          ]
        },
        {
          "output_type": "stream",
          "name": "stderr",
          "text": [
            "/usr/local/lib/python3.7/dist-packages/sklearn/utils/deprecation.py:87: FutureWarning: Function plot_confusion_matrix is deprecated; Function `plot_confusion_matrix` is deprecated in 1.0 and will be removed in 1.2. Use one of the class methods: ConfusionMatrixDisplay.from_predictions or ConfusionMatrixDisplay.from_estimator.\n",
            "  warnings.warn(msg, category=FutureWarning)\n"
          ]
        },
        {
          "output_type": "display_data",
          "data": {
            "image/png": "[encoded data removed]",
            "text/plain": [
              "<Figure size 432x288 with 2 Axes>"
            ]
          },
          "metadata": {
            "needs_background": "light"
          }
        }
      ]
    },
    {
      "cell_type": "markdown",
      "metadata": {
        "id": "FUcvDGJwCxdV"
      },
      "source": [
        "**Decision Tree**"
      ]
    },
    {
      "cell_type": "code",
      "metadata": {
        "id": "7eFkAjndDX6x"
      },
      "source": [
        "X = pd.get_dummies(X, drop_first=True)\n",
        "sm_scaled = SMOTE(sampling_strategy='minority')\n",
        "X_sm1, y_sm1 = sm_scaled.fit_resample(X, y)\n",
        "X_train4, X_test4, y_train4, y_test4 = train_test_split(X_sm1, y_sm1, test_size=0.3, stratify = y_sm1, random_state = 10)\n",
        "\n",
        "X_train4 = scaler.fit_transform(X_train4)\n",
        "X_test4 = scaler.fit_transform(X_test4)"
      ],
      "execution_count": null,
      "outputs": []
    },
    {
      "cell_type": "code",
      "metadata": {
        "colab": {
          "base_uri": "https://localhost:8080/",
          "height": 438
        },
        "id": "vp1Xs4WXDjGj",
        "outputId": "124cd2a3-6301-48f1-992d-cecc3cc52cbe"
      },
      "source": [
        "X_train4, X_test4, y_train4, y_test4 = train_test_split(X_sm1, y_sm1, test_size=0.2, stratify = y_sm1, random_state = 10)\n",
        "clf = tree.DecisionTreeClassifier()\n",
        "clf = clf.fit(X_train4, y_train4)\n",
        "\n",
        "print(f\"Train Acc.: {clf.score(X_train4, y_train4)*100:.2f}%\")\n",
        "print(f\"Test Acc.: {clf.score(X_test4, y_test4)*100:.2f}%\")\n",
        "\n",
        "y_pred4 = clf.predict(X_test4)\n",
        "print(f\"Recall .: {recall_score(y_test4,y_pred4)*100:.2f}%\")\n",
        "print(f\"Precision.: {precision_score(y_test4,y_pred4)*100:.2f}%\")\n",
        "print(f\"F1 score.: {f1_score(y_test4,y_pred4)*100:.2f}%\")\n",
        "\n",
        "plot_confusion_matrix(clf, X_test4,y_test4) \n"
      ],
      "execution_count": null,
      "outputs": [
        {
          "output_type": "stream",
          "name": "stdout",
          "text": [
            "Train Acc.: 100.00%\n",
            "Test Acc.: 90.16%\n",
            "Recall .: 91.80%\n",
            "Precision.: 88.89%\n",
            "F1 score.: 90.32%\n"
          ]
        },
        {
          "output_type": "stream",
          "name": "stderr",
          "text": [
            "/usr/local/lib/python3.7/dist-packages/sklearn/utils/deprecation.py:87: FutureWarning: Function plot_confusion_matrix is deprecated; Function `plot_confusion_matrix` is deprecated in 1.0 and will be removed in 1.2. Use one of the class methods: ConfusionMatrixDisplay.from_predictions or ConfusionMatrixDisplay.from_estimator.\n",
            "  warnings.warn(msg, category=FutureWarning)\n"
          ]
        },
        {
          "output_type": "execute_result",
          "data": {
            "text/plain": [
              "<sklearn.metrics._plot.confusion_matrix.ConfusionMatrixDisplay at 0x7f2367ec2590>"
            ]
          },
          "metadata": {},
          "execution_count": 42
        },
        {
          "output_type": "display_data",
          "data": {
            "image/png": "[encoded data removed]",
            "text/plain": [
              "<Figure size 432x288 with 2 Axes>"
            ]
          },
          "metadata": {
            "needs_background": "light"
          }
        }
      ]
    },
    {
      "cell_type": "markdown",
      "metadata": {
        "id": "6oL66tEnFcAq"
      },
      "source": [
        "## **Evalution**\n",
        "\n",
        "We are evaluating the performance of our model using different metrics\n",
        "1. Accuracy \n",
        "2. Precision\n",
        "The metrics for each of the model can be found in Modeling section and in the results section.\n",
        "We are also displaying a confusion matrix for each of the model"
      ]
    },
    {
      "cell_type": "markdown",
      "metadata": {
        "id": "ht8XXKOFGarB"
      },
      "source": [
        "## **Results**\n",
        "\n",
        "We found best results while using the decision trees and the random forest models using oversampling data.\n",
        "\n",
        "#### **Under Sampling** \n",
        "\n",
        "|                     | Test Accuracy | Train Accuracy | F1 Score |\n",
        "|---------------------|:-------------:|:--------------:|:--------:|\n",
        "| Logistic Regression | 85.37         | 72.45          | 85.71    |\n",
        "| Decision Tree       | 63.30         | 100            | 63.64    |\n",
        "| Random Forest       | 73.17         | 98.07          | 73.17    |\n",
        "\n",
        "#### **Over Sampling**\n",
        "\n",
        "\n",
        "|                     | Test Accuracy | Train Accuracy | F1 Score |\n",
        "|---------------------|:-------------:|:--------------:|----------|\n",
        "| Logistic Regression | 79.36         | 78.64          | 79.83    |\n",
        "| Decision Tree       |**90.16**         | **100**        | **90.32**    |\n",
        "| Random Forest       | **91.21**         | **95.57**          | **91.38**    |\n"
      ]
    },
    {
      "cell_type": "markdown",
      "metadata": {
        "id": "aZG8v3Yj_Q9P"
      },
      "source": [
        "**References**\n",
        "\n",
        "https://thesai.org/Downloads/Volume12No6/Paper_62-Analyzing_the_Performance_of_Stroke_Prediction.pdf"
      ]
    }
  ]
}